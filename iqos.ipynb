{
  "nbformat": 4,
  "nbformat_minor": 0,
  "metadata": {
    "colab": {
      "provenance": []
    },
    "kernelspec": {
      "name": "python3",
      "display_name": "Python 3"
    },
    "language_info": {
      "name": "python"
    }
  },
  "cells": [
    {
      "cell_type": "code",
      "execution_count": null,
      "metadata": {
        "colab": {
          "base_uri": "https://localhost:8080/",
          "height": 90
        },
        "id": "_9W3PDSlGQY8",
        "outputId": "f023a9c6-0ad6-4f75-f6e1-933c723d7f39"
      },
      "outputs": [
        {
          "output_type": "display_data",
          "data": {
            "text/plain": [
              "<IPython.core.display.HTML object>"
            ],
            "text/html": [
              "\n",
              "     <input type=\"file\" id=\"files-e366bc61-7857-4b7c-b4ba-dcf99a680765\" name=\"files[]\" multiple disabled\n",
              "        style=\"border:none\" />\n",
              "     <output id=\"result-e366bc61-7857-4b7c-b4ba-dcf99a680765\">\n",
              "      Upload widget is only available when the cell has been executed in the\n",
              "      current browser session. Please rerun this cell to enable.\n",
              "      </output>\n",
              "      <script>// Copyright 2017 Google LLC\n",
              "//\n",
              "// Licensed under the Apache License, Version 2.0 (the \"License\");\n",
              "// you may not use this file except in compliance with the License.\n",
              "// You may obtain a copy of the License at\n",
              "//\n",
              "//      http://www.apache.org/licenses/LICENSE-2.0\n",
              "//\n",
              "// Unless required by applicable law or agreed to in writing, software\n",
              "// distributed under the License is distributed on an \"AS IS\" BASIS,\n",
              "// WITHOUT WARRANTIES OR CONDITIONS OF ANY KIND, either express or implied.\n",
              "// See the License for the specific language governing permissions and\n",
              "// limitations under the License.\n",
              "\n",
              "/**\n",
              " * @fileoverview Helpers for google.colab Python module.\n",
              " */\n",
              "(function(scope) {\n",
              "function span(text, styleAttributes = {}) {\n",
              "  const element = document.createElement('span');\n",
              "  element.textContent = text;\n",
              "  for (const key of Object.keys(styleAttributes)) {\n",
              "    element.style[key] = styleAttributes[key];\n",
              "  }\n",
              "  return element;\n",
              "}\n",
              "\n",
              "// Max number of bytes which will be uploaded at a time.\n",
              "const MAX_PAYLOAD_SIZE = 100 * 1024;\n",
              "\n",
              "function _uploadFiles(inputId, outputId) {\n",
              "  const steps = uploadFilesStep(inputId, outputId);\n",
              "  const outputElement = document.getElementById(outputId);\n",
              "  // Cache steps on the outputElement to make it available for the next call\n",
              "  // to uploadFilesContinue from Python.\n",
              "  outputElement.steps = steps;\n",
              "\n",
              "  return _uploadFilesContinue(outputId);\n",
              "}\n",
              "\n",
              "// This is roughly an async generator (not supported in the browser yet),\n",
              "// where there are multiple asynchronous steps and the Python side is going\n",
              "// to poll for completion of each step.\n",
              "// This uses a Promise to block the python side on completion of each step,\n",
              "// then passes the result of the previous step as the input to the next step.\n",
              "function _uploadFilesContinue(outputId) {\n",
              "  const outputElement = document.getElementById(outputId);\n",
              "  const steps = outputElement.steps;\n",
              "\n",
              "  const next = steps.next(outputElement.lastPromiseValue);\n",
              "  return Promise.resolve(next.value.promise).then((value) => {\n",
              "    // Cache the last promise value to make it available to the next\n",
              "    // step of the generator.\n",
              "    outputElement.lastPromiseValue = value;\n",
              "    return next.value.response;\n",
              "  });\n",
              "}\n",
              "\n",
              "/**\n",
              " * Generator function which is called between each async step of the upload\n",
              " * process.\n",
              " * @param {string} inputId Element ID of the input file picker element.\n",
              " * @param {string} outputId Element ID of the output display.\n",
              " * @return {!Iterable<!Object>} Iterable of next steps.\n",
              " */\n",
              "function* uploadFilesStep(inputId, outputId) {\n",
              "  const inputElement = document.getElementById(inputId);\n",
              "  inputElement.disabled = false;\n",
              "\n",
              "  const outputElement = document.getElementById(outputId);\n",
              "  outputElement.innerHTML = '';\n",
              "\n",
              "  const pickedPromise = new Promise((resolve) => {\n",
              "    inputElement.addEventListener('change', (e) => {\n",
              "      resolve(e.target.files);\n",
              "    });\n",
              "  });\n",
              "\n",
              "  const cancel = document.createElement('button');\n",
              "  inputElement.parentElement.appendChild(cancel);\n",
              "  cancel.textContent = 'Cancel upload';\n",
              "  const cancelPromise = new Promise((resolve) => {\n",
              "    cancel.onclick = () => {\n",
              "      resolve(null);\n",
              "    };\n",
              "  });\n",
              "\n",
              "  // Wait for the user to pick the files.\n",
              "  const files = yield {\n",
              "    promise: Promise.race([pickedPromise, cancelPromise]),\n",
              "    response: {\n",
              "      action: 'starting',\n",
              "    }\n",
              "  };\n",
              "\n",
              "  cancel.remove();\n",
              "\n",
              "  // Disable the input element since further picks are not allowed.\n",
              "  inputElement.disabled = true;\n",
              "\n",
              "  if (!files) {\n",
              "    return {\n",
              "      response: {\n",
              "        action: 'complete',\n",
              "      }\n",
              "    };\n",
              "  }\n",
              "\n",
              "  for (const file of files) {\n",
              "    const li = document.createElement('li');\n",
              "    li.append(span(file.name, {fontWeight: 'bold'}));\n",
              "    li.append(span(\n",
              "        `(${file.type || 'n/a'}) - ${file.size} bytes, ` +\n",
              "        `last modified: ${\n",
              "            file.lastModifiedDate ? file.lastModifiedDate.toLocaleDateString() :\n",
              "                                    'n/a'} - `));\n",
              "    const percent = span('0% done');\n",
              "    li.appendChild(percent);\n",
              "\n",
              "    outputElement.appendChild(li);\n",
              "\n",
              "    const fileDataPromise = new Promise((resolve) => {\n",
              "      const reader = new FileReader();\n",
              "      reader.onload = (e) => {\n",
              "        resolve(e.target.result);\n",
              "      };\n",
              "      reader.readAsArrayBuffer(file);\n",
              "    });\n",
              "    // Wait for the data to be ready.\n",
              "    let fileData = yield {\n",
              "      promise: fileDataPromise,\n",
              "      response: {\n",
              "        action: 'continue',\n",
              "      }\n",
              "    };\n",
              "\n",
              "    // Use a chunked sending to avoid message size limits. See b/62115660.\n",
              "    let position = 0;\n",
              "    do {\n",
              "      const length = Math.min(fileData.byteLength - position, MAX_PAYLOAD_SIZE);\n",
              "      const chunk = new Uint8Array(fileData, position, length);\n",
              "      position += length;\n",
              "\n",
              "      const base64 = btoa(String.fromCharCode.apply(null, chunk));\n",
              "      yield {\n",
              "        response: {\n",
              "          action: 'append',\n",
              "          file: file.name,\n",
              "          data: base64,\n",
              "        },\n",
              "      };\n",
              "\n",
              "      let percentDone = fileData.byteLength === 0 ?\n",
              "          100 :\n",
              "          Math.round((position / fileData.byteLength) * 100);\n",
              "      percent.textContent = `${percentDone}% done`;\n",
              "\n",
              "    } while (position < fileData.byteLength);\n",
              "  }\n",
              "\n",
              "  // All done.\n",
              "  yield {\n",
              "    response: {\n",
              "      action: 'complete',\n",
              "    }\n",
              "  };\n",
              "}\n",
              "\n",
              "scope.google = scope.google || {};\n",
              "scope.google.colab = scope.google.colab || {};\n",
              "scope.google.colab._files = {\n",
              "  _uploadFiles,\n",
              "  _uploadFilesContinue,\n",
              "};\n",
              "})(self);\n",
              "</script> "
            ]
          },
          "metadata": {}
        },
        {
          "output_type": "stream",
          "name": "stdout",
          "text": [
            "Saving TEST_TASK_REPLACEMENT_UPDATE 1.xlsx to TEST_TASK_REPLACEMENT_UPDATE 1.xlsx\n"
          ]
        }
      ],
      "source": [
        "from google.colab import files\n",
        "\n",
        "\n",
        "uploaded = files.upload()"
      ]
    },
    {
      "cell_type": "code",
      "source": [
        "import pandas as pd\n",
        "file_path = '/content/TEST_TASK_REPLACEMENT_UPDATE 1.xlsx'\n",
        "\n",
        "df = pd.read_excel(file_path)\n",
        "print(df.head())"
      ],
      "metadata": {
        "colab": {
          "base_uri": "https://localhost:8080/"
        },
        "id": "BGDNnUztG26x",
        "outputId": "fa04f44d-4511-44b3-fd98-540d972705b1"
      },
      "execution_count": null,
      "outputs": [
        {
          "output_type": "stream",
          "name": "stdout",
          "text": [
            "     код_клиента  код_обращения дата_обращения              решение категория  \\\n",
            "0  CUST-10036878  REPL-23821368     2022-01-30  WarrantyReplacement      B101   \n",
            "1  CUST-10041283  REPL-23930020     2022-02-08  WarrantyReplacement      B101   \n",
            "2  CUST-10042118  REPL-24541731     2022-03-30  WarrantyReplacement      B101   \n",
            "3  CUST-10046075  REPL-23620065     2022-01-16  WarrantyReplacement      B101   \n",
            "4  CUST-10048037  REPL-23773156     2022-01-27  WarrantyReplacement      B101   \n",
            "\n",
            "   возраст_устройства      платформа   цвет      тип код_доставки  \\\n",
            "0                 3.0    IQOS 3 DUOS   Blue   Holder          NaN   \n",
            "1                12.0    IQOS 3 DUOS  Black  Charger          NaN   \n",
            "2                 9.0    IQOS 3 DUOS   Gold  Charger          NaN   \n",
            "3                24.0    IQOS 3 DUOS   Gold   Holder          NaN   \n",
            "4                 4.0  IQOS 2.4/2.4+   Navy      Kit          NaN   \n",
            "\n",
            "  тип_доставки канал  регион         город   nps  \n",
            "0          NaN    TT   North         Kirov  Detr  \n",
            "1          NaN    BR  Centre     Togliatti  Prom  \n",
            "2          NaN    BR  Centre  Magnitogorsk  Neut  \n",
            "3          NaN    BR   North     Yaroslavl  Detr  \n",
            "4          NaN    BR  Centre  Magnitogorsk  Detr  \n"
          ]
        }
      ]
    },
    {
      "cell_type": "code",
      "source": [
        "print(\"Типы данных в колонках:\")\n",
        "print(df.dtypes)"
      ],
      "metadata": {
        "colab": {
          "base_uri": "https://localhost:8080/"
        },
        "id": "WCSbOHmaIV3r",
        "outputId": "ad2cb04c-d1f4-4e59-dca4-e524086cb07f"
      },
      "execution_count": null,
      "outputs": [
        {
          "output_type": "stream",
          "name": "stdout",
          "text": [
            "Типы данных в колонках:\n",
            "код_клиента                   object\n",
            "код_обращения                 object\n",
            "дата_обращения        datetime64[ns]\n",
            "решение                       object\n",
            "категория                     object\n",
            "возраст_устройства           float64\n",
            "платформа                     object\n",
            "цвет                          object\n",
            "тип                           object\n",
            "код_доставки                  object\n",
            "тип_доставки                  object\n",
            "канал                         object\n",
            "регион                        object\n",
            "город                         object\n",
            "nps                           object\n",
            "dtype: object\n"
          ]
        }
      ]
    },
    {
      "cell_type": "code",
      "source": [
        "if sum(df.duplicated()) == 0:\n",
        "    print(\"Дубликатов не обнаружено\")\n",
        "else:\n",
        "    print(\"Обнаружены дубликаты\")"
      ],
      "metadata": {
        "colab": {
          "base_uri": "https://localhost:8080/"
        },
        "id": "XdZn_HUKIfMT",
        "outputId": "b4539df5-a7a3-4716-fded-555281ae832f"
      },
      "execution_count": null,
      "outputs": [
        {
          "output_type": "stream",
          "name": "stdout",
          "text": [
            "Дубликатов не обнаружено\n"
          ]
        }
      ]
    },
    {
      "cell_type": "code",
      "source": [
        "if sum(df.isnull().values.ravel()) == 0:\n",
        "    print(\"Пропусков не обнаружено\")\n",
        "else:\n",
        "    print(\"Обнаружены пропуски\")"
      ],
      "metadata": {
        "colab": {
          "base_uri": "https://localhost:8080/"
        },
        "id": "ZSsNw-QXJy9L",
        "outputId": "0198aa23-87c6-47c1-a2ae-b238269359e2"
      },
      "execution_count": null,
      "outputs": [
        {
          "output_type": "stream",
          "name": "stdout",
          "text": [
            "Обнаружены пропуски\n"
          ]
        }
      ]
    },
    {
      "cell_type": "code",
      "source": [
        "missing_values = df.isnull()\n",
        "print(missing_values.sum())\n",
        "print(df[missing_values.any(axis=1)])"
      ],
      "metadata": {
        "colab": {
          "base_uri": "https://localhost:8080/"
        },
        "id": "N7-eIh1RKltK",
        "outputId": "ba76cdc4-7fc0-4e47-8984-413de957c418"
      },
      "execution_count": null,
      "outputs": [
        {
          "output_type": "stream",
          "name": "stdout",
          "text": [
            "код_клиента               8\n",
            "код_обращения             0\n",
            "дата_обращения            0\n",
            "решение                   0\n",
            "категория                 0\n",
            "возраст_устройства       36\n",
            "платформа                 0\n",
            "цвет                      0\n",
            "тип                       0\n",
            "код_доставки          80747\n",
            "тип_доставки          80751\n",
            "канал                     0\n",
            "регион                    0\n",
            "город                     0\n",
            "nps                       0\n",
            "dtype: int64\n",
            "         код_клиента  код_обращения дата_обращения              решение  \\\n",
            "0      CUST-10036878  REPL-23821368     2022-01-30  WarrantyReplacement   \n",
            "1      CUST-10041283  REPL-23930020     2022-02-08  WarrantyReplacement   \n",
            "2      CUST-10042118  REPL-24541731     2022-03-30  WarrantyReplacement   \n",
            "3      CUST-10046075  REPL-23620065     2022-01-16  WarrantyReplacement   \n",
            "4      CUST-10048037  REPL-23773156     2022-01-27  WarrantyReplacement   \n",
            "...              ...            ...            ...                  ...   \n",
            "88102  CUST-33955845  REPL-24555428     2022-03-31  WarrantyReplacement   \n",
            "88103  CUST-33955846  REPL-24555477     2022-03-31  WarrantyReplacement   \n",
            "88104  CUST-33956024  REPL-24556325     2022-03-31  WarrantyReplacement   \n",
            "88105  CUST-33956138  REPL-24556883     2022-03-31  WarrantyReplacement   \n",
            "88106  CUST-33956278  REPL-24557635     2022-03-31  WarrantyReplacement   \n",
            "\n",
            "      категория  возраст_устройства      платформа   цвет      тип  \\\n",
            "0          B101                 3.0    IQOS 3 DUOS   Blue   Holder   \n",
            "1          B101                12.0    IQOS 3 DUOS  Black  Charger   \n",
            "2          B101                 9.0    IQOS 3 DUOS   Gold  Charger   \n",
            "3          B101                24.0    IQOS 3 DUOS   Gold   Holder   \n",
            "4          B101                 4.0  IQOS 2.4/2.4+   Navy      Kit   \n",
            "...         ...                 ...            ...    ...      ...   \n",
            "88102      C002                 7.0      lil SOLID   Navy   Holder   \n",
            "88103      C002                 8.0      lil SOLID   Navy   Holder   \n",
            "88104      C002                 7.0    IQOS 3 DUOS   Blue   Holder   \n",
            "88105      D001                 1.0  IQOS 2.4/2.4+  White      Kit   \n",
            "88106      C002                 3.0    IQOS 3 DUOS  White   Holder   \n",
            "\n",
            "      код_доставки тип_доставки канал  регион         город   nps  \n",
            "0              NaN          NaN    TT   North         Kirov  Detr  \n",
            "1              NaN          NaN    BR  Centre     Togliatti  Prom  \n",
            "2              NaN          NaN    BR  Centre  Magnitogorsk  Neut  \n",
            "3              NaN          NaN    BR   North     Yaroslavl  Detr  \n",
            "4              NaN          NaN    BR  Centre  Magnitogorsk  Detr  \n",
            "...            ...          ...   ...     ...           ...   ...  \n",
            "88102          NaN          NaN    BR  Centre        Tyumen  Detr  \n",
            "88103          NaN          NaN    TT  Moscow       Stupino  Neut  \n",
            "88104          NaN          NaN    BR   South      Voronezh  Detr  \n",
            "88105          NaN          NaN    BR  Moscow      Mytischi  Neut  \n",
            "88106          NaN          NaN    BR  Moscow        Moscow  Detr  \n",
            "\n",
            "[80768 rows x 15 columns]\n"
          ]
        }
      ]
    },
    {
      "cell_type": "code",
      "source": [
        "grouped = df.groupby(df['дата_обращения'].dt.month).size()\n",
        "result = grouped[(grouped.index >= 1) & (grouped.index <= 3)]\n",
        "print(result)\n",
        "total_count = result.loc[[1, 2, 3]].sum()\n",
        "print(f\"Суммарное количество обращений за январь, февраль, март: {total_count}\")"
      ],
      "metadata": {
        "colab": {
          "base_uri": "https://localhost:8080/"
        },
        "id": "bapEoeumKyZ7",
        "outputId": "32bb58fa-20f8-4c31-8ebe-1b86f8bcf4ee"
      },
      "execution_count": null,
      "outputs": [
        {
          "output_type": "stream",
          "name": "stdout",
          "text": [
            "дата_обращения\n",
            "1    30396\n",
            "2    27507\n",
            "3    30204\n",
            "dtype: int64\n",
            "Суммарное количество обращений за январь, февраль, март: 88107\n"
          ]
        }
      ]
    },
    {
      "cell_type": "code",
      "source": [
        "count = df[(df['тип'] == 'Kit') & (df['решение'] == 'WarrantyReplacement')].shape[0]\n",
        "print(count)\n"
      ],
      "metadata": {
        "colab": {
          "base_uri": "https://localhost:8080/"
        },
        "id": "4T7AxgRRMg99",
        "outputId": "d7405ecd-52bf-4fdc-e4eb-c317254d873e"
      },
      "execution_count": null,
      "outputs": [
        {
          "output_type": "stream",
          "name": "stdout",
          "text": [
            "6070\n"
          ]
        }
      ]
    },
    {
      "cell_type": "code",
      "source": [
        "import matplotlib.pyplot as plt\n",
        "df['неделя'] = df['дата_обращения'].dt.isocalendar().week\n",
        "df_warranty = df[df['решение'] == 'WarrantyReplacement']\n",
        "weekly_counts = df_warranty.groupby(['неделя', 'тип']).size().unstack(fill_value=0)\n",
        "weekly_counts.plot(kind='bar', stacked=True, figsize=(12, 6))\n",
        "plt.title('Количество обращений с решением \"WarrantyReplacement\" по типам и неделям')\n",
        "plt.xlabel('Неделя')\n",
        "plt.ylabel('Количество обращений')\n",
        "plt.legend(title='Тип')\n",
        "plt.show()"
      ],
      "metadata": {
        "colab": {
          "base_uri": "https://localhost:8080/",
          "height": 502
        },
        "id": "5dvdUO8NLz6b",
        "outputId": "851dcb28-05dd-430d-97ee-24e1f3794617"
      },
      "execution_count": null,
      "outputs": [
        {
          "output_type": "display_data",
          "data": {
            "text/plain": [
              "<Figure size 1200x600 with 1 Axes>"
            ],
            "image/png": "[encoded data removed]"
          },
          "metadata": {}
        }
      ]
    },
    {
      "cell_type": "code",
      "source": [
        "print(df['решение'].unique())\n",
        "\n",
        "df['дата_обращения'] = pd.to_datetime(df['дата_обращения'], errors='coerce')\n",
        "print(df['дата_обращения'].min(), df['дата_обращения'].max())\n",
        "\n",
        "df_filtered = df[(df['дата_обращения'] >= '2022-01-01') & (df['дата_обращения'] <= '2022-03-31')]\n",
        "\n",
        "print(f'Количество записей с января по март: {df_filtered.shape[0]}')\n",
        "\n",
        "df_warranty = df_filtered[df_filtered['решение'].str.contains('WarrantyReplacement', na=False)]\n",
        "\n",
        "unique_records = df_warranty['код_клиента'].nunique()\n",
        "\n",
        "print(f'Количество уникальных записей, запрашивающих WarrantyReplacement с января по март: {unique_records}')"
      ],
      "metadata": {
        "colab": {
          "base_uri": "https://localhost:8080/"
        },
        "id": "ejUqEhtOTnzD",
        "outputId": "6adfddb7-8a62-47b8-da0a-fdd8cec60d35"
      },
      "execution_count": null,
      "outputs": [
        {
          "output_type": "stream",
          "name": "stdout",
          "text": [
            "['WarrantyReplacement' 'OverrideReplacement' 'GoodwillReplacement']\n",
            "2022-01-01 00:00:00 2022-03-31 00:00:00\n",
            "Количество записей с января по март: 88107\n",
            "Количество уникальных записей, запрашивающих WarrantyReplacement с января по март: 74646\n"
          ]
        }
      ]
    },
    {
      "cell_type": "code",
      "source": [
        "df['дата_обращения'] = pd.to_datetime(df['дата_обращения'])\n",
        "df_february = df[(df['дата_обращения'] >= '2022-02-01') & (df['дата_обращения'] <= '2022-02-28')]\n",
        "df_warranty_february = df_february[df_february['решение'] == 'WarrantyReplacement']\n",
        "print (df_warranty_february)\n",
        "total_warranty_replacements = df_warranty_february.shape[0]\n",
        "unique_clients = df_warranty_february['код_клиента'].nunique()\n",
        "average_replacements_per_client = total_warranty_replacements / unique_clients if unique_clients else 0\n",
        "\n",
        "print(f'Среднее количество решений \"WarrantyReplacement\" на одного клиента в феврале: {average_replacements_per_client}')\n",
        "\n"
      ],
      "metadata": {
        "colab": {
          "base_uri": "https://localhost:8080/"
        },
        "id": "wHdExjUiYSxR",
        "outputId": "b9a75d7b-23b7-4217-c8a9-47b7b93ee036"
      },
      "execution_count": null,
      "outputs": [
        {
          "output_type": "stream",
          "name": "stdout",
          "text": [
            "         код_клиента  код_обращения дата_обращения              решение  \\\n",
            "1      CUST-10041283  REPL-23930020     2022-02-08  WarrantyReplacement   \n",
            "7      CUST-10051934  REPL-23892623     2022-02-04  WarrantyReplacement   \n",
            "8      CUST-10051934  REPL-23892502     2022-02-04  WarrantyReplacement   \n",
            "19     CUST-10075332  REPL-24080531     2022-02-20  WarrantyReplacement   \n",
            "21     CUST-10080044  REPL-24112306     2022-02-22  WarrantyReplacement   \n",
            "...              ...            ...            ...                  ...   \n",
            "86773  CUST-33858085  REPL-24180962     2022-02-28  WarrantyReplacement   \n",
            "86774  CUST-33858091  REPL-24180925     2022-02-28  WarrantyReplacement   \n",
            "86775  CUST-33858100  REPL-24181086     2022-02-28  WarrantyReplacement   \n",
            "86784  CUST-33858437  REPL-24182056     2022-02-28  WarrantyReplacement   \n",
            "86785  CUST-33858492  REPL-24182240     2022-02-28  WarrantyReplacement   \n",
            "\n",
            "      категория  возраст_устройства      платформа            цвет      тип  \\\n",
            "1          B101                12.0    IQOS 3 DUOS           Black  Charger   \n",
            "7          B101                17.0    IQOS 3 DUOS            Blue  Charger   \n",
            "8          B101                17.0    IQOS 3 DUOS            Blue   Holder   \n",
            "19         B101                12.0  lil SOLID 2.0      Stone Grey   Holder   \n",
            "21         B101                13.0    IQOS 3 DUOS  The We Edition      Kit   \n",
            "...         ...                 ...            ...             ...      ...   \n",
            "86773      C002                 4.0    IQOS 3 DUOS           Black   Holder   \n",
            "86774      C002                12.0    IQOS 3 DUOS           Black   Holder   \n",
            "86775      C002                15.0    IQOS 3 DUOS           Black      Kit   \n",
            "86784      C002                 3.0    IQOS 3 DUOS            Gold      Kit   \n",
            "86785      C002                13.0    IQOS 3 DUOS            Blue   Holder   \n",
            "\n",
            "      код_доставки тип_доставки канал  регион         город   nps  неделя  \n",
            "1              NaN          NaN    BR  Centre     Togliatti  Prom       6  \n",
            "7              NaN          NaN    TT  Centre  Ekaterinburg  Prom       5  \n",
            "8              NaN          NaN    TT  Centre  Ekaterinburg  Detr       5  \n",
            "19             NaN          NaN    BR  Moscow     Serpukhov  Detr       7  \n",
            "21             NaN          NaN    BR  Moscow        Moscow  Neut       8  \n",
            "...            ...          ...   ...     ...           ...   ...     ...  \n",
            "86773          NaN          NaN    BR  Moscow          Tver  Detr       9  \n",
            "86774          NaN          NaN    BR  Moscow      Vladimir  Prom       9  \n",
            "86775          NaN          NaN    BR  Centre   Chelyabinsk  Prom       9  \n",
            "86784          NaN          NaN    BR   North       Ivanovo  Detr       9  \n",
            "86785          NaN          NaN    BR  Moscow      Klimovsk  Detr       9  \n",
            "\n",
            "[27369 rows x 16 columns]\n",
            "Среднее количество решений \"WarrantyReplacement\" на одного клиента в феврале: 1.1145091012745856\n"
          ]
        }
      ]
    },
    {
      "cell_type": "code",
      "source": [
        "color_counts = df['цвет'].value_counts()\n",
        "print(color_counts)\n",
        "platform_counts = df['платформа'].value_counts()\n",
        "print(platform_counts)\n"
      ],
      "metadata": {
        "colab": {
          "base_uri": "https://localhost:8080/"
        },
        "id": "8rCtZiEUZ7SR",
        "outputId": "bce4445d-5d17-4a04-beb0-be365462b531"
      },
      "execution_count": null,
      "outputs": [
        {
          "output_type": "stream",
          "name": "stdout",
          "text": [
            "цвет\n",
            "Blue                23365\n",
            "Black               21834\n",
            "Gold                17483\n",
            "White                8026\n",
            "Stone Grey           5452\n",
            "Cosmic Blue          4983\n",
            "Navy                 2003\n",
            "Passion Red          1856\n",
            "Moonlight Silver     1168\n",
            "The We Edition       1133\n",
            "Absolut red           182\n",
            "Copper                162\n",
            "Cloud blue            146\n",
            "Frosted Red           124\n",
            "Lucid Teal            117\n",
            "Festa pink             42\n",
            "Graphite               29\n",
            "Pink                    2\n",
            "Name: count, dtype: int64\n",
            "платформа\n",
            "IQOS 3 DUOS      73821\n",
            "lil SOLID 2.0    10805\n",
            "lil SOLID         1922\n",
            "IQOS 2.4/2.4+     1447\n",
            "IQOS 3.0            81\n",
            "IQOS 3 MULTI        31\n",
            "Name: count, dtype: int64\n"
          ]
        }
      ]
    },
    {
      "cell_type": "code",
      "source": [
        "df_jan_to_mar = df[(df['дата_обращения'] >= '2022-01-01') & (df['дата_обращения'] <= '2022-03-31')]\n",
        "average_device_age = df_jan_to_mar['возраст_устройства'].mean()\n",
        "print(f'Средний возраст устройств за январь-март 2022 года: {average_device_age}')\n"
      ],
      "metadata": {
        "colab": {
          "base_uri": "https://localhost:8080/"
        },
        "id": "klT2E1uiahUG",
        "outputId": "67199f07-d8de-4fdb-8523-8450f276d6c7"
      },
      "execution_count": null,
      "outputs": [
        {
          "output_type": "stream",
          "name": "stdout",
          "text": [
            "Средний возраст устройств за январь-март 2022 года: 11.231495043771503\n"
          ]
        }
      ]
    },
    {
      "cell_type": "code",
      "source": [
        "warranty_df = df[df['решение'] == 'WarrantyReplacement']\n",
        "warranty_by_city = warranty_df.groupby('город').size().reset_index(name='количество')\n",
        "warranty_by_city_sorted = warranty_by_city.sort_values('количество', ascending=False)\n",
        "print(warranty_by_city_sorted)\n"
      ],
      "metadata": {
        "colab": {
          "base_uri": "https://localhost:8080/"
        },
        "id": "AmGxSBz0bDl8",
        "outputId": "08f96e90-7177-460e-f997-c0c0da08e69a"
      },
      "execution_count": null,
      "outputs": [
        {
          "output_type": "stream",
          "name": "stdout",
          "text": [
            "              город  количество\n",
            "275          Moscow       17040\n",
            "434  St. Petersburg        5084\n",
            "379   Rostov-on-Don        2832\n",
            "321     Novosibirsk        2660\n",
            "108    Ekaterinburg        2657\n",
            "..              ...         ...\n",
            "342        Osinniki           1\n",
            "484       Uryupinsk           1\n",
            "268       Millerovo           1\n",
            "206          Kotlas           1\n",
            "73          Buzuluk           1\n",
            "\n",
            "[552 rows x 2 columns]\n"
          ]
        }
      ]
    },
    {
      "cell_type": "code",
      "source": [
        "warranty_df = df[df['решение'] == 'WarrantyReplacement']\n",
        "warranty_by_city = warranty_df.groupby('город').size()\n",
        "warranty_by_city = warranty_by_city[warranty_by_city > 1000]\n",
        "warranty_by_city.plot(kind='bar')\n",
        "\n",
        "plt.title('Распределение решений WarrantyReplacement по городам с >1000 записей')\n",
        "plt.xlabel('Город')\n",
        "plt.ylabel('Количество решений')\n",
        "\n",
        "plt.xticks(rotation=45, ha='right')\n",
        "\n",
        "plt.tight_layout()\n",
        "plt.show()\n"
      ],
      "metadata": {
        "colab": {
          "base_uri": "https://localhost:8080/",
          "height": 487
        },
        "id": "WGI-nNLSc3A2",
        "outputId": "235be629-07ed-4a79-e401-f34cd2afa6fa"
      },
      "execution_count": null,
      "outputs": [
        {
          "output_type": "display_data",
          "data": {
            "text/plain": [
              "<Figure size 640x480 with 1 Axes>"
            ],
            "image/png": "[encoded data removed]"
          },
          "metadata": {}
        }
      ]
    },
    {
      "cell_type": "code",
      "source": [
        "warranty_df = df[df['решение'] == 'WarrantyReplacement']\n",
        "warranty_with_delivery = warranty_df[warranty_df['тип_доставки'].notna()]\n",
        "count_warranty_with_delivery = warranty_with_delivery.shape[0]\n",
        "print(f\"Количество замен с доставкой: {count_warranty_with_delivery}\")\n"
      ],
      "metadata": {
        "colab": {
          "base_uri": "https://localhost:8080/"
        },
        "id": "UENhccmQduK4",
        "outputId": "5c227f68-aefa-43dc-b522-5cbb489ed0d7"
      },
      "execution_count": null,
      "outputs": [
        {
          "output_type": "stream",
          "name": "stdout",
          "text": [
            "Количество замен с доставкой: 7343\n"
          ]
        }
      ]
    },
    {
      "cell_type": "code",
      "source": [
        "warranty_df = df[df['решение'] == 'WarrantyReplacement']\n",
        "total_warranty = warranty_df.shape[0]\n",
        "warranty_with_delivery = warranty_df[warranty_df['тип_доставки'].notna()]\n",
        "count_warranty_with_delivery = warranty_with_delivery.shape[0]\n",
        "percentage_with_delivery = (count_warranty_with_delivery / total_warranty) * 100\n",
        "\n",
        "print(f\"Процент змен с доставкой: {percentage_with_delivery:.2f}%\")\n"
      ],
      "metadata": {
        "colab": {
          "base_uri": "https://localhost:8080/"
        },
        "id": "-m3ZYMNreR2Y",
        "outputId": "be37475f-0bbf-4357-d01d-27b6fbeef489"
      },
      "execution_count": null,
      "outputs": [
        {
          "output_type": "stream",
          "name": "stdout",
          "text": [
            "Процент змен с доставкой: 8.38%\n"
          ]
        }
      ]
    },
    {
      "cell_type": "code",
      "source": [
        "total_decisions = df['решение'].count()\n",
        "warranty_decisions = df[df['решение'] == 'WarrantyReplacement']['решение'].count()\n",
        "percentage_warranty = (warranty_decisions / total_decisions) * 100\n",
        "\n",
        "print(f\"99,46: {percentage_warranty:.2f}%\")\n",
        "\n"
      ],
      "metadata": {
        "colab": {
          "base_uri": "https://localhost:8080/"
        },
        "id": "TKO7u5a0j0AM",
        "outputId": "c3e60ec5-790f-44f0-9438-8033e2a6c3c0"
      },
      "execution_count": null,
      "outputs": [
        {
          "output_type": "stream",
          "name": "stdout",
          "text": [
            "Процент записей 'WarrantyReplacement' от всех решений: 99.46%\n"
          ]
        }
      ]
    },
    {
      "cell_type": "code",
      "source": [
        "filtered_df = df[(df['дата_обращения'] >= '2022-01-01') & (df['дата_обращения'] <= '2022-03-31')]\n",
        "channel_counts = filtered_df['канал'].value_counts()\n",
        "channel_ratio = channel_counts / channel_counts.sum()\n",
        "\n",
        "print(channel_ratio)\n"
      ],
      "metadata": {
        "colab": {
          "base_uri": "https://localhost:8080/"
        },
        "id": "cIa9oZXdCxlV",
        "outputId": "96c0354a-947b-44e0-b7a4-8343cf09325a"
      },
      "execution_count": null,
      "outputs": [
        {
          "output_type": "stream",
          "name": "stdout",
          "text": [
            "канал\n",
            "BR    0.682420\n",
            "TT    0.234090\n",
            "SP    0.046341\n",
            "EX    0.037148\n",
            "Name: count, dtype: float64\n"
          ]
        }
      ]
    },
    {
      "cell_type": "code",
      "source": [
        "nps_counts = df['nps'].value_counts()\n",
        "nps_percentage = (nps_counts / nps_counts.sum()) * 100\n",
        "nps_percentage_df = pd.DataFrame({'NPS': nps_percentage.index, 'Процент': nps_percentage.values})\n",
        "\n",
        "print(nps_percentage_df)\n"
      ],
      "metadata": {
        "colab": {
          "base_uri": "https://localhost:8080/"
        },
        "id": "KOaILZsBFOVd",
        "outputId": "b9477266-0b2f-4cec-8e6b-c9000a974b8e"
      },
      "execution_count": null,
      "outputs": [
        {
          "output_type": "stream",
          "name": "stdout",
          "text": [
            "    NPS    Процент\n",
            "0  Detr  64.081174\n",
            "1  Prom  18.040564\n",
            "2  Neut  17.878262\n"
          ]
        }
      ]
    }
  ]
}